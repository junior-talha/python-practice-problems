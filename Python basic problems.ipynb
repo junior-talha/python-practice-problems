{
 "cells": [
  {
   "cell_type": "code",
   "execution_count": 1,
   "id": "15605293",
   "metadata": {},
   "outputs": [
    {
     "name": "stdout",
     "output_type": "stream",
     "text": [
      "Enter length of rectangle: 45\n",
      "Enter width of rectangle: 23\n",
      "The area of recatngle is:  1035\n"
     ]
    }
   ],
   "source": [
    "length = int(input(\"Enter length of rectangle: \"))\n",
    "width = int(input(\"Enter width of rectangle: \"))\n",
    "area = length * width\n",
    "\n",
    "print(\"The area of recatngle is: \",area)"
   ]
  },
  {
   "cell_type": "code",
   "execution_count": 4,
   "id": "e9a9c13a",
   "metadata": {},
   "outputs": [
    {
     "name": "stdout",
     "output_type": "stream",
     "text": [
      "Enter sum of total marks of all the subjects: 400\n",
      "Enter marks obtained in maths: 78\n",
      "Enter marks obtained in science: 67\n",
      "Enter marks obtained in english: 89\n",
      "Enter marks obtained in urdu: 90\n",
      "percentage is:  81.0\n"
     ]
    }
   ],
   "source": [
    "total_marks = int(input(\"Enter sum of total marks of all the subjects: \"))\n",
    "\n",
    "math = int(input(\"Enter marks obtained in maths: \"))\n",
    "science = int(input(\"Enter marks obtained in science: \"))\n",
    "english = int(input(\"Enter marks obtained in english: \"))\n",
    "urdu = int(input(\"Enter marks obtained in urdu: \"))\n",
    "\n",
    "total_obtained = math + science + english + urdu\n",
    "\n",
    "percentage = (total_obtained/total_marks) * 100\n",
    "\n",
    "print(\"percentage is: \", percentage )"
   ]
  },
  {
   "cell_type": "code",
   "execution_count": 10,
   "id": "95137a0b",
   "metadata": {},
   "outputs": [
    {
     "name": "stdout",
     "output_type": "stream",
     "text": [
      "Enter amount of money: 200000\n",
      "Enter years when you want: 2\n",
      "Enter rate of interest: 5.5\n",
      "The interest of deposit is:  22000.0\n"
     ]
    }
   ],
   "source": [
    "amount = int(input(\"Enter amount of money: \"))\n",
    "years = int(input(\"Enter years when you want: \"))\n",
    "rate = float(input(\"Enter rate of interest: \"))\n",
    "\n",
    "interest = amount * years * rate / 100\n",
    "\n",
    "print(\"The interest of deposit is: \", interest)\n"
   ]
  },
  {
   "cell_type": "code",
   "execution_count": 11,
   "id": "916a9a79",
   "metadata": {},
   "outputs": [
    {
     "name": "stdout",
     "output_type": "stream",
     "text": [
      "Enter temprature in farenheit: 97\n",
      "The temprature in celsius is:  36.111111111111114\n"
     ]
    }
   ],
   "source": [
    "temp_f = float(input(\"Enter temprature in farenheit: \"))\n",
    "\n",
    "temp_c = 5 / 9 * (temp_f - 32)\n",
    "\n",
    "print(\"The temprature in celsius is: \", temp_c)"
   ]
  },
  {
   "cell_type": "code",
   "execution_count": 12,
   "id": "c38255c2",
   "metadata": {},
   "outputs": [
    {
     "name": "stdout",
     "output_type": "stream",
     "text": [
      "Enter length of rectangle: 45\n",
      "Enter width of rectangle: 67\n",
      "The perimeter of rectangle is:  6030\n"
     ]
    }
   ],
   "source": [
    "length = int(input(\"Enter length of rectangle: \"))\n",
    "width = int(input(\"Enter width of rectangle: \"))\n",
    "\n",
    "perimeter = 2 * (length * width)\n",
    "\n",
    "print(\"The perimeter of rectangle is: \", perimeter)"
   ]
  },
  {
   "cell_type": "code",
   "execution_count": 20,
   "id": "717bafe8",
   "metadata": {},
   "outputs": [
    {
     "name": "stdout",
     "output_type": "stream",
     "text": [
      "The discounted price is : 495.0\n"
     ]
    }
   ],
   "source": [
    "original_p = 550\n",
    "\n",
    "discounted_p = 550 / 100 *10\n",
    "\n",
    "print(\"The discounted price is :\", original_p - discounted_p)"
   ]
  },
  {
   "cell_type": "code",
   "execution_count": 21,
   "id": "fb04da54",
   "metadata": {},
   "outputs": [
    {
     "name": "stdout",
     "output_type": "stream",
     "text": [
      "Enter retail price: 550\n",
      "Enter sales tax rate: 10\n",
      "The total payable amount is:  605.0\n"
     ]
    }
   ],
   "source": [
    "retail_p = int(input(\"Enter retail price: \"))\n",
    "sales_tax_rate = float(input(\"Enter sales tax rate: \"))\n",
    "\n",
    "tax_p = retail_p / 100 * sales_tax_rate\n",
    "\n",
    "print(\"The total payable amount is: \", retail_p + tax_p)"
   ]
  },
  {
   "cell_type": "code",
   "execution_count": 22,
   "id": "85bc7d4a",
   "metadata": {},
   "outputs": [
    {
     "name": "stdout",
     "output_type": "stream",
     "text": [
      "Total price in PKR is:  106050\n"
     ]
    }
   ],
   "source": [
    "dollar_p = 303\n",
    "keyboards_p = 100 * 2 * dollar_p\n",
    "mouse_p = 50 * 3 *dollar_p\n",
    "\n",
    "print(\"Total price in PKR is: \", keyboards_p + mouse_p)"
   ]
  },
  {
   "cell_type": "code",
   "execution_count": 25,
   "id": "95e95075",
   "metadata": {},
   "outputs": [
    {
     "name": "stdout",
     "output_type": "stream",
     "text": [
      "Enter starting balance: 40000\n",
      "Enter deposits amount: 60000\n",
      "Enter total ammount of withdrawals made: 10000\n",
      "The current balance is:  50000\n"
     ]
    }
   ],
   "source": [
    "starting_b = int(input(\"Enter starting balance: \"))\n",
    "deposits = int(input(\"Enter deposits amount: \"))\n",
    "total_amount = int(input(\"Enter total ammount of withdrawals made: \"))\n",
    "\n",
    "print(\"The current balance is: \", deposits - total_amount)"
   ]
  },
  {
   "cell_type": "code",
   "execution_count": 24,
   "id": "2137f8d1",
   "metadata": {},
   "outputs": [
    {
     "name": "stdout",
     "output_type": "stream",
     "text": [
      "Enter the age of candidate: 45\n",
      "The candidate is eligible for casting his/her vote!\n"
     ]
    }
   ],
   "source": [
    "age = int(input(\"Enter the age of candidate: \"))\n",
    "\n",
    "if age >= 18:\n",
    "    print(\"The candidate is eligible for casting his/her vote!\")\n",
    "else:\n",
    "    print(\"The candidate is not eligible for casting his/her vote!\")"
   ]
  },
  {
   "cell_type": "code",
   "execution_count": 33,
   "id": "6012c245",
   "metadata": {},
   "outputs": [
    {
     "name": "stdout",
     "output_type": "stream",
     "text": [
      "Enter units of electricity used: 450\n",
      "The total payable bill is:  810.0\n"
     ]
    }
   ],
   "source": [
    "units = int(input(\"Enter units of electricity used: \"))\n",
    "bill = 1\n",
    "    \n",
    "if units <= 50:\n",
    "    bill = units * .5\n",
    "elif (units <= 150 and units >50):\n",
    "    bill = (50 * .5) + ((units - 50 * .75)) \n",
    "elif (units >100 and units <= 250):\n",
    "    bill = (50 * .5) + (units - 150 * 1.2) + (100 * .75)\n",
    "elif units > 250:\n",
    "    bill = units * 1.5\n",
    "\n",
    "sub_charge = bill * .2\n",
    "total_bill = bill + sub_charge\n",
    "\n",
    "print(\"The total payable bill is: \", total_bill)"
   ]
  },
  {
   "cell_type": "code",
   "execution_count": 34,
   "id": "55c842aa",
   "metadata": {},
   "outputs": [
    {
     "name": "stdout",
     "output_type": "stream",
     "text": [
      "Enter sides of shape (0-4): 4\n",
      "Enter length of triangle: 7\n",
      "Enter width of triangle: 10\n",
      "The area of recatngle is:  70.0\n"
     ]
    }
   ],
   "source": [
    "num = int(input(\"Enter sides of shape (0-4): \"))\n",
    "\n",
    "if num == 0:\n",
    "    radius = int(input(\"Enter the radius of circle: \"))\n",
    "    area = radius * 3.14\n",
    "    print(\"The area of circle is: \", area)\n",
    "elif num == 1:\n",
    "    print(\"Not supported!\")\n",
    "elif num == 2:\n",
    "    print(\"Not supported!\")\n",
    "elif num == 3:\n",
    "    length = float(input(\"Enter length of triangle: \"))\n",
    "    width = float(input(\"Enter width of triangle: \"))\n",
    "    area = 0.5 * length * height\n",
    "    print(\"The area of triangle is: \", area)\n",
    "\n",
    "elif num == 4:\n",
    "    length = float(input(\"Enter length of triangle: \"))\n",
    "    width = float(input(\"Enter width of triangle: \"))\n",
    "    area = length * width\n",
    "    print(\"The area of recatngle is: \", area)\n",
    "\n",
    "    "
   ]
  },
  {
   "cell_type": "code",
   "execution_count": 64,
   "id": "5722855f",
   "metadata": {},
   "outputs": [
    {
     "name": "stdout",
     "output_type": "stream",
     "text": [
      "Input number : 6\n",
      "0 1 2 3 4 5 \n",
      "The sum of the divisors is : 6\n",
      "The number is perfect number.\n"
     ]
    }
   ],
   "source": [
    "n = int(input(\"Input number : \"))\n",
    "sum = 0\n",
    "i = 1\n",
    "while i < n:\n",
    "    if n % i == 0:\n",
    "        sum += i\n",
    "    i = i + 1\n",
    "if sum == n:\n",
    "    j = 0\n",
    "    while j < n:\n",
    "        if n % i == 0:\n",
    "            print(j, end=\" \")\n",
    "            j += 1\n",
    "    print()\n",
    "    print(\"The sum of the divisors is :\", n)\n",
    "    print(\"The number is perfect number.\")\n",
    "else:\n",
    "    print(\"The number is not perfect.\")"
   ]
  },
  {
   "cell_type": "code",
   "execution_count": 73,
   "id": "1263a9be",
   "metadata": {},
   "outputs": [
    {
     "name": "stdout",
     "output_type": "stream",
     "text": [
      "Enter the Starting Number : 1\n",
      "Enter the Ending Number : 60\n",
      "The Perfect numbers within the given range : \n",
      "6\n",
      "28\n"
     ]
    }
   ],
   "source": [
    "start=int(input(\"Enter the Starting Number : \")) \n",
    "end=int(input(\"Enter the Ending Number : \")) \n",
    "print(\"The Perfect numbers within the given range are: \") \n",
    "for i in range(start,end): \n",
    "    sum=0 \n",
    "    for j in range(1,i): \n",
    "        if(i%j==0): \n",
    "            sum=sum+j \n",
    "    if(sum==i): \n",
    "                print(i)"
   ]
  },
  {
   "cell_type": "code",
   "execution_count": 71,
   "id": "d5fd1612",
   "metadata": {},
   "outputs": [
    {
     "name": "stdout",
     "output_type": "stream",
     "text": [
      "Enter a number: 5\n",
      "The squares of numbers upto giver input are: \n",
      "1  *  1  =  1\n",
      "2  *  2  =  4\n",
      "3  *  3  =  9\n",
      "4  *  4  =  16\n",
      "5  *  5  =  25\n",
      "The sum of squares is:  55\n"
     ]
    }
   ],
   "source": [
    "num = int(input(\"Enter a number: \"))\n",
    "print(\"The squares of numbers upto giver input are: \")\n",
    "i = 1\n",
    "sum = 0\n",
    "while i <= num:\n",
    "    sq = i * i\n",
    "    sum = sum + sq\n",
    "    print(i, \" * \", i, \" = \",sq)\n",
    "    i += 1\n",
    "\n",
    "print(\"The sum of squares is: \", sum)"
   ]
  },
  {
   "cell_type": "code",
   "execution_count": null,
   "id": "ffe0f13d",
   "metadata": {},
   "outputs": [],
   "source": []
  }
 ],
 "metadata": {
  "kernelspec": {
   "display_name": "Python 3 (ipykernel)",
   "language": "python",
   "name": "python3"
  },
  "language_info": {
   "codemirror_mode": {
    "name": "ipython",
    "version": 3
   },
   "file_extension": ".py",
   "mimetype": "text/x-python",
   "name": "python",
   "nbconvert_exporter": "python",
   "pygments_lexer": "ipython3",
   "version": "3.11.4"
  }
 },
 "nbformat": 4,
 "nbformat_minor": 5
}
